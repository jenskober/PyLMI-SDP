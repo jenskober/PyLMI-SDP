{
 "cells": [
  {
   "cell_type": "code",
   "execution_count": 1,
   "id": "795391a0",
   "metadata": {},
   "outputs": [],
   "source": [
    "from sympy import Matrix, zeros, MatAdd, MatMul\n",
    "from sympy.abc import x, y, z\n",
    "import numpy as np\n",
    "from lmi_sdp import NonLinearExpressionError, NonLinearMatrixError, \\\n",
    "    lin_expr_coeffs, lm_sym_to_coeffs, lm_coeffs_to_sym, lm_sym_expanded"
   ]
  },
  {
   "cell_type": "markdown",
   "id": "e0453e3a",
   "metadata": {},
   "source": [
    "### test_lin_expr_coeffs()"
   ]
  },
  {
   "cell_type": "code",
   "execution_count": 2,
   "id": "f88d087f",
   "metadata": {},
   "outputs": [],
   "source": [
    "e = 1.2 + 3*x - 4.5*y + z\n",
    "coeffs, const = lin_expr_coeffs(e, [x, y, z])\n",
    "assert coeffs == [3.0, -4.5, 1.0]\n",
    "assert const == 1.2"
   ]
  },
  {
   "cell_type": "markdown",
   "id": "30cdc900",
   "metadata": {},
   "source": [
    "### test_lin_expr_coeffs_exceptions()"
   ]
  },
  {
   "cell_type": "code",
   "execution_count": 3,
   "id": "b1a4daa5",
   "metadata": {},
   "outputs": [],
   "source": [
    "except_ok = False\n",
    "try:\n",
    "    lin_expr_coeffs(1.2 + x + y*z, [x, y, z])\n",
    "except NonLinearExpressionError:\n",
    "    except_ok = True\n",
    "assert except_ok\n",
    "\n",
    "except_ok = False\n",
    "try:\n",
    "    lin_expr_coeffs(1.2 + x*y, [x])\n",
    "except NonLinearExpressionError:\n",
    "    except_ok = True\n",
    "assert except_ok"
   ]
  },
  {
   "cell_type": "markdown",
   "id": "34e44ff5",
   "metadata": {},
   "source": [
    "### test_lm_sym_to_coeffs()"
   ]
  },
  {
   "cell_type": "code",
   "execution_count": 4,
   "id": "b37d52a5",
   "metadata": {},
   "outputs": [],
   "source": [
    "m = Matrix([[1.2, x], [3.4*y, 1.2 + 3*x - 4.5*y + z]])\n",
    "coeffs = lm_sym_to_coeffs(m, [x, y, z])\n",
    "assert len(coeffs) == 2\n",
    "assert len(coeffs[0]) == 3\n",
    "assert (coeffs[0][0] == np.array([[0.0, 1.0], [0.0, 3.0]])).all()\n",
    "assert (coeffs[0][1] == np.array([[0.0, 0.0], [3.4, -4.5]])).all()\n",
    "assert (coeffs[0][2] == np.array([[0.0, 0.0], [0.0, 1.0]])).all()\n",
    "assert (coeffs[1] == np.array([[1.2, 0.0], [0.0, 1.2]])).all()\n",
    "\n",
    "assert lm_sym_to_coeffs(Matrix([0.0]), [x, y, z]) == \\\n",
    "    ([np.array([[0.0]]), np.array([[0.0]]), np.array([[0.0]])],\n",
    "     np.array([[0.0]]))"
   ]
  },
  {
   "cell_type": "markdown",
   "id": "5cfb7bbf",
   "metadata": {},
   "source": [
    "### test_lm_sym_to_coeffs_sparse()"
   ]
  },
  {
   "cell_type": "code",
   "execution_count": 5,
   "id": "ca9cbbd7",
   "metadata": {},
   "outputs": [],
   "source": [
    "try:\n",
    "    import scipy\n",
    "except ImportError:  # pragma: no cover\n",
    "    pass\n",
    "else:\n",
    "    m = Matrix([[1.2, x], [3.4*y, 1.2 + 3*x - 4.5*y + z]])\n",
    "    coeffs = lm_sym_to_coeffs(m, [x, y, z], sparse=True)\n",
    "    assert len(coeffs) == 2\n",
    "    assert len(coeffs[0]) == 3\n",
    "    assert (coeffs[0][0].toarray() ==\n",
    "            np.array([[0.0, 1.0], [0.0, 3.0]])).all()\n",
    "    assert (coeffs[0][1].toarray() ==\n",
    "            np.array([[0.0, 0.0], [3.4, -4.5]])).all()\n",
    "    assert (coeffs[0][2].toarray() ==\n",
    "            np.array([[0.0, 0.0], [0.0, 1.0]])).all()\n",
    "    assert (coeffs[1].toarray() == np.array([[1.2, 0.0], [0.0, 1.2]])).all()"
   ]
  },
  {
   "cell_type": "markdown",
   "id": "8e7c6bcd",
   "metadata": {},
   "source": [
    "### test_lm_sym_to_coeffs_exceptions()"
   ]
  },
  {
   "cell_type": "code",
   "execution_count": 6,
   "id": "d04b79b5",
   "metadata": {},
   "outputs": [],
   "source": [
    "except_ok = False\n",
    "try:\n",
    "    lm_sym_to_coeffs(Matrix([1.2 + x + y*z]), [x, y, z])\n",
    "except NonLinearMatrixError:\n",
    "    except_ok = True\n",
    "assert except_ok\n",
    "\n",
    "except_ok = False\n",
    "try:\n",
    "    lm_sym_to_coeffs(Matrix([1.2 + x*y]), [x])\n",
    "except NonLinearMatrixError:\n",
    "    except_ok = True\n",
    "assert except_ok"
   ]
  },
  {
   "cell_type": "markdown",
   "id": "771ff882",
   "metadata": {},
   "source": [
    "### test_lm_coeffs_to_sym()"
   ]
  },
  {
   "cell_type": "code",
   "execution_count": 7,
   "id": "d2a2bb3a",
   "metadata": {},
   "outputs": [],
   "source": [
    "var_coeffs = [None]*3\n",
    "var_coeffs[0] = np.array([[0.0, 1.0], [0.0, 3.0]])\n",
    "var_coeffs[1] = np.array([[0.0, 0.0], [3.4, -4.5]])\n",
    "var_coeffs[2] = np.array([[0.0, 0.0], [0.0, 1.0]])\n",
    "consts = np.array([[1.2, 0.0], [0.0, 1.2]])\n",
    "coeffs = (var_coeffs, consts)\n",
    "m = Matrix([[1.2, x], [3.4*y, 1.2 + 3*x - 4.5*y + z]])\n",
    "assert lm_coeffs_to_sym(coeffs, [x, y, z]) - m == zeros(2)"
   ]
  },
  {
   "cell_type": "markdown",
   "id": "f9a1d7a3",
   "metadata": {},
   "source": [
    "### test_lm_sym_expanded()"
   ]
  },
  {
   "cell_type": "code",
   "execution_count": 8,
   "id": "dcba0418",
   "metadata": {},
   "outputs": [],
   "source": [
    "m = Matrix([[0.0, x], [3.4*y, 3.0*x - 4.5*y + z]])\n",
    "c = Matrix([[1.2, 0.0], [0.0, 1.2]])\n",
    "cx = MatMul(Matrix([[0.0, 1.0], [0.0, 3.0]]), x)\n",
    "cy = MatMul(Matrix([[0.0, 0.0], [3.4, -4.5]]), y)\n",
    "cz = MatMul(Matrix([[0.0, 0.0], [0.0, 1.0]]), z)\n",
    "cc = Matrix([[1.2, 0.0], [0.0, 1.2]])\n",
    "assert MatAdd(cx, cy, cz, cc) == lm_sym_expanded(m+c, [x, y, z])\n",
    "assert MatAdd(cx, cy, cz) == lm_sym_expanded(m, [x, y, z])\n",
    "assert cc == lm_sym_expanded(c, [x, y, z])"
   ]
  }
 ],
 "metadata": {
  "kernelspec": {
   "display_name": "Python 3 (ipykernel)",
   "language": "python",
   "name": "python3"
  },
  "language_info": {
   "codemirror_mode": {
    "name": "ipython",
    "version": 3
   },
   "file_extension": ".py",
   "mimetype": "text/x-python",
   "name": "python",
   "nbconvert_exporter": "python",
   "pygments_lexer": "ipython3",
   "version": "3.12.3"
  }
 },
 "nbformat": 4,
 "nbformat_minor": 5
}
