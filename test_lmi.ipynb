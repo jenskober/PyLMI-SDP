{
 "cells": [
  {
   "cell_type": "code",
   "execution_count": 1,
   "id": "c708f31f",
   "metadata": {},
   "outputs": [],
   "source": [
    "from sympy import Matrix, S, latex\n",
    "from sympy.abc import x, y, z\n",
    "from lmi_sdp.lm import lm_sym_expanded\n",
    "from lmi_sdp.lmi import ShapeError, NonSymmetricMatrixError, LMI_PSD, \\\n",
    "    LMI_NSD, LMI_PD, LMI_ND, init_lmi_latex_printing"
   ]
  },
  {
   "cell_type": "markdown",
   "id": "c341ba03",
   "metadata": {},
   "source": [
    "### test_LMI_PSD()"
   ]
  },
  {
   "cell_type": "code",
   "execution_count": 2,
   "id": "c0ff5458",
   "metadata": {},
   "outputs": [],
   "source": [
    "m = Matrix([[x, y], [y, z+1]])\n",
    "lmi = LMI_PSD(m)\n",
    "assert lmi.lhs == lmi.gts == m\n",
    "assert lmi.rhs == lmi.lts == S(0)\n",
    "\n",
    "c = Matrix([[0, 1], [1, 2]])\n",
    "lmi = LMI_PSD(m, c)\n",
    "assert lmi.lhs == lmi.gts == m\n",
    "assert lmi.rhs == lmi.lts == c"
   ]
  },
  {
   "cell_type": "markdown",
   "id": "2d9a5295",
   "metadata": {},
   "source": [
    "### test_LMI_canonical()"
   ]
  },
  {
   "cell_type": "code",
   "execution_count": 3,
   "id": "1ae63082",
   "metadata": {},
   "outputs": [],
   "source": [
    "m = Matrix([[x, y], [y, z+1]])\n",
    "c = Matrix([[0, 1], [1, 2]])\n",
    "can_lhs = m-c\n",
    "can_rhs = 0\n",
    "\n",
    "can = LMI_PSD(m, c).canonical()\n",
    "assert can.lhs == can.gts == can_lhs\n",
    "assert can.rhs == can.lts == can_rhs\n",
    "\n",
    "can = LMI_PSD(0, c-m).canonical()\n",
    "assert can.lhs == can.gts == can_lhs\n",
    "assert can.rhs == can.lts == can_rhs\n",
    "\n",
    "can = LMI_PD(m, c).canonical()\n",
    "assert can.lhs == can.gts == can_lhs\n",
    "assert can.rhs == can.lts == can_rhs\n",
    "\n",
    "can = LMI_NSD(c, m).canonical()\n",
    "assert can.lhs == can.gts == can_lhs\n",
    "assert can.rhs == can.lts == can_rhs\n",
    "assert isinstance(can, LMI_PSD)\n",
    "\n",
    "can = LMI_ND(c, m).canonical()\n",
    "assert can.lhs == can.gts == can_lhs\n",
    "assert can.rhs == can.lts == can_rhs\n",
    "assert isinstance(can, LMI_PD)"
   ]
  },
  {
   "cell_type": "markdown",
   "id": "7dcac644",
   "metadata": {},
   "source": [
    "### test_LMI_canonical_same()"
   ]
  },
  {
   "cell_type": "code",
   "execution_count": 4,
   "id": "906e79f2",
   "metadata": {},
   "outputs": [],
   "source": [
    "m = Matrix([[x, y], [y, z+1]])\n",
    "\n",
    "lmi = LMI_PSD(m)\n",
    "assert lmi is lmi.canonical()\n",
    "\n",
    "lmi = LMI_PD(m)\n",
    "assert lmi is lmi.canonical()"
   ]
  },
  {
   "cell_type": "markdown",
   "id": "58c0921c",
   "metadata": {},
   "source": [
    "### test_LMI_expanded()"
   ]
  },
  {
   "cell_type": "code",
   "execution_count": 5,
   "id": "b11b9811",
   "metadata": {},
   "outputs": [],
   "source": [
    "variables = (x, y, z)\n",
    "m = Matrix([[x, y], [y, z+1]])\n",
    "c = Matrix([[0, 1], [1, 2]])\n",
    "\n",
    "expdd = LMI_ND(m+c, c).expanded(variables)\n",
    "assert expdd == LMI_ND(lm_sym_expanded(m+c, variables), c)\n",
    "\n",
    "expdd = LMI_PSD(m).expanded(variables)\n",
    "assert expdd == LMI_PSD(lm_sym_expanded(m, variables))"
   ]
  },
  {
   "cell_type": "markdown",
   "id": "0d4edbfc",
   "metadata": {},
   "source": [
    "### test_LMI_PSD_exceptions()"
   ]
  },
  {
   "cell_type": "code",
   "execution_count": 6,
   "id": "1d938e26",
   "metadata": {},
   "outputs": [],
   "source": [
    "try:\n",
    "    LMI_PSD(Matrix([[1, x], [y, z]]))\n",
    "except NonSymmetricMatrixError:\n",
    "    pass\n",
    "else:\n",
    "    assert False\n",
    "\n",
    "try:\n",
    "    LMI_PSD(Matrix([[1, x], [y, z]]), assert_symmetry=False)\n",
    "except NonSymmetricMatrixError:\n",
    "    assert False\n",
    "\n",
    "try:\n",
    "    LMI_PSD(Matrix([[x+y]]), Matrix([[x, y], [y, z+1]]))\n",
    "except ShapeError:\n",
    "    pass\n",
    "else:\n",
    "    assert False"
   ]
  },
  {
   "cell_type": "markdown",
   "id": "1aeda67b",
   "metadata": {},
   "source": [
    "### test_lmi_latex_printing()"
   ]
  },
  {
   "cell_type": "code",
   "execution_count": 7,
   "id": "aa74fffc",
   "metadata": {},
   "outputs": [],
   "source": [
    "init_lmi_latex_printing()\n",
    "lmi = LMI_PSD(Matrix([[x, y], [y, z+1]]))\n",
    "assert r\"\\succeq 0\" == latex(lmi)[-9:]"
   ]
  }
 ],
 "metadata": {
  "kernelspec": {
   "display_name": "py38",
   "language": "python",
   "name": "py38"
  },
  "language_info": {
   "codemirror_mode": {
    "name": "ipython",
    "version": 3
   },
   "file_extension": ".py",
   "mimetype": "text/x-python",
   "name": "python",
   "nbconvert_exporter": "python",
   "pygments_lexer": "ipython3",
   "version": "3.8.12"
  }
 },
 "nbformat": 4,
 "nbformat_minor": 5
}
