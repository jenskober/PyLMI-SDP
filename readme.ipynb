{
 "cells": [
  {
   "cell_type": "markdown",
   "id": "0a7fafdf",
   "metadata": {},
   "source": [
    "LMI Definition\n",
    "--------------\n",
    "\n",
    "### Examples"
   ]
  },
  {
   "cell_type": "code",
   "execution_count": 1,
   "id": "70b3099b",
   "metadata": {},
   "outputs": [
    {
     "data": {
      "text/latex": [
       "$\\displaystyle \\left[\\begin{matrix}x + 1 & y + 2\\\\y + 2 & x + z\\end{matrix}\\right] > 0$"
      ],
      "text/plain": [
       "Matrix([\n",
       "[x + 1, y + 2],\n",
       "[y + 2, x + z]]) > 0"
      ]
     },
     "execution_count": 1,
     "metadata": {},
     "output_type": "execute_result"
    }
   ],
   "source": [
    "from sympy import symbols, Matrix\n",
    "from lmi_sdp import LMI_PD, LMI_NSD\n",
    "variables = symbols('x y z')\n",
    "x, y, z = variables\n",
    "lmi = LMI_PD(Matrix([[x+1, y+2], [y+2, z+x]]))\n",
    "lmi"
   ]
  },
  {
   "cell_type": "code",
   "execution_count": 2,
   "id": "edb40847",
   "metadata": {},
   "outputs": [
    {
     "name": "stdout",
     "output_type": "stream",
     "text": [
      "\\left[\\begin{matrix}x + 1 & y + 2\\\\y + 2 & x + z\\end{matrix}\\right] \\succ 0\n"
     ]
    }
   ],
   "source": [
    "from lmi_sdp import init_lmi_latex_printing\n",
    "from sympy import latex\n",
    "init_lmi_latex_printing()\n",
    "print(latex(lmi))"
   ]
  },
  {
   "cell_type": "code",
   "execution_count": 3,
   "id": "4e380df8",
   "metadata": {},
   "outputs": [
    {
     "data": {
      "text/latex": [
       "$\\displaystyle \\left[\\begin{matrix}1.0 & 0\\\\0 & 1.0\\end{matrix}\\right] x + \\left[\\begin{matrix}0 & 1.0\\\\1.0 & 0\\end{matrix}\\right] y + \\left[\\begin{matrix}0 & 0\\\\0 & 1.0\\end{matrix}\\right] z + \\left[\\begin{matrix}1.0 & 2.0\\\\2.0 & 0\\end{matrix}\\right] \\succ 0$"
      ],
      "text/plain": [
       "Matrix([\n",
       "[1.0,   0],\n",
       "[  0, 1.0]])*x + Matrix([\n",
       "[  0, 1.0],\n",
       "[1.0,   0]])*y + Matrix([\n",
       "[0,   0],\n",
       "[0, 1.0]])*z + Matrix([\n",
       "[1.0, 2.0],\n",
       "[2.0,   0]]) > 0"
      ]
     },
     "execution_count": 3,
     "metadata": {},
     "output_type": "execute_result"
    }
   ],
   "source": [
    "lmi.expanded(variables)"
   ]
  },
  {
   "cell_type": "code",
   "execution_count": 4,
   "id": "399a9519",
   "metadata": {},
   "outputs": [
    {
     "data": {
      "text/latex": [
       "$\\displaystyle \\left[\\begin{matrix}- x & - y\\\\- y & - x - z\\end{matrix}\\right] \\preceq \\left[\\begin{matrix}1 & 2\\\\2 & 0\\end{matrix}\\right]$"
      ],
      "text/plain": [
       "Matrix([\n",
       "[-x,     -y],\n",
       "[-y, -x - z]]) <= Matrix([\n",
       "[1, 2],\n",
       "[2, 0]])"
      ]
     },
     "execution_count": 4,
     "metadata": {},
     "output_type": "execute_result"
    }
   ],
   "source": [
    "lmi_2 = LMI_NSD( Matrix([[-x, -y], [-y, -z-x]]), Matrix([[1, 2], [2, 0]]))\n",
    "lmi_2"
   ]
  },
  {
   "cell_type": "code",
   "execution_count": 5,
   "id": "3b8e0c1e",
   "metadata": {},
   "outputs": [
    {
     "data": {
      "text/latex": [
       "$\\displaystyle \\left[\\begin{matrix}x + 1 & y + 2\\\\y + 2 & x + z\\end{matrix}\\right] \\succeq 0$"
      ],
      "text/plain": [
       "Matrix([\n",
       "[x + 1, y + 2],\n",
       "[y + 2, x + z]]) >= 0"
      ]
     },
     "execution_count": 5,
     "metadata": {},
     "output_type": "execute_result"
    }
   ],
   "source": [
    "lmi_2.canonical()"
   ]
  },
  {
   "cell_type": "markdown",
   "id": "5cac122a",
   "metadata": {},
   "source": [
    "Convertion to CVXOPT SDP\n",
    "------------------------\n",
    "\n",
    "### Example\n",
    "\n",
    "(from CVXOPT [SDP example](http://abel.ee.ucla.edu/cvxopt/userguide/coneprog.html#semidefinite-programming))"
   ]
  },
  {
   "cell_type": "code",
   "execution_count": 6,
   "id": "1aa38d96",
   "metadata": {},
   "outputs": [
    {
     "data": {
      "text/latex": [
       "$\\displaystyle x_{1} - x_{2} + x_{3}$"
      ],
      "text/plain": [
       "x1 - x2 + x3"
      ]
     },
     "execution_count": 6,
     "metadata": {},
     "output_type": "execute_result"
    }
   ],
   "source": [
    "from sympy import symbols, Matrix\n",
    "from lmi_sdp import LMI_NSD, init_lmi_latex_printing\n",
    "\n",
    "init_lmi_latex_printing()\n",
    "\n",
    "variables = symbols('x1 x2 x3')\n",
    "x1, x2, x3 = variables\n",
    "\n",
    "min_obj = x1 - x2 + x3\n",
    "\n",
    "LMI_1 = LMI_NSD(\n",
    "        x1*Matrix([[-7, -11], [-11, 3]]) +\n",
    "        x2*Matrix([[7, -18], [-18, 8]]) +\n",
    "        x3*Matrix([[-2, -8], [-8, 1]]),\n",
    "        Matrix([[33, -9], [-9, 26]]))\n",
    "\n",
    "LMI_2 = LMI_NSD(\n",
    "        x1*Matrix([[-21, -11, 0], [-11, 10, 8], [0, 8, 5]]) +\n",
    "        x2*Matrix([[0, 10, 16], [10, -10, -10], [16, -10, 3]]) +\n",
    "        x3*Matrix([[-5, 2, -17], [2, -6, 8], [-17, 8, 6]]),\n",
    "        Matrix([[14, 9, 40], [9, 91, 10], [40, 10, 15]]))\n",
    "\n",
    "min_obj"
   ]
  },
  {
   "cell_type": "code",
   "execution_count": 7,
   "id": "f63e1334",
   "metadata": {},
   "outputs": [
    {
     "data": {
      "text/latex": [
       "$\\displaystyle \\left[\\begin{matrix}-7.0 & -11.0\\\\-11.0 & 3.0\\end{matrix}\\right] x_{1} + \\left[\\begin{matrix}7.0 & -18.0\\\\-18.0 & 8.0\\end{matrix}\\right] x_{2} + \\left[\\begin{matrix}-2.0 & -8.0\\\\-8.0 & 1.0\\end{matrix}\\right] x_{3} \\preceq \\left[\\begin{matrix}33 & -9\\\\-9 & 26\\end{matrix}\\right]$"
      ],
      "text/plain": [
       "Matrix([\n",
       "[ -7.0, -11.0],\n",
       "[-11.0,   3.0]])*x1 + Matrix([\n",
       "[  7.0, -18.0],\n",
       "[-18.0,   8.0]])*x2 + Matrix([\n",
       "[-2.0, -8.0],\n",
       "[-8.0,  1.0]])*x3 <= Matrix([\n",
       "[33, -9],\n",
       "[-9, 26]])"
      ]
     },
     "execution_count": 7,
     "metadata": {},
     "output_type": "execute_result"
    }
   ],
   "source": [
    "LMI_1.expanded(variables)"
   ]
  },
  {
   "cell_type": "code",
   "execution_count": 8,
   "id": "9c11c29c",
   "metadata": {},
   "outputs": [
    {
     "data": {
      "text/latex": [
       "$\\displaystyle \\left[\\begin{matrix}-21.0 & -11.0 & 0\\\\-11.0 & 10.0 & 8.0\\\\0 & 8.0 & 5.0\\end{matrix}\\right] x_{1} + \\left[\\begin{matrix}0 & 10.0 & 16.0\\\\10.0 & -10.0 & -10.0\\\\16.0 & -10.0 & 3.0\\end{matrix}\\right] x_{2} + \\left[\\begin{matrix}-5.0 & 2.0 & -17.0\\\\2.0 & -6.0 & 8.0\\\\-17.0 & 8.0 & 6.0\\end{matrix}\\right] x_{3} \\preceq \\left[\\begin{matrix}14 & 9 & 40\\\\9 & 91 & 10\\\\40 & 10 & 15\\end{matrix}\\right]$"
      ],
      "text/plain": [
       "Matrix([\n",
       "[-21.0, -11.0,   0],\n",
       "[-11.0,  10.0, 8.0],\n",
       "[    0,   8.0, 5.0]])*x1 + Matrix([\n",
       "[   0,  10.0,  16.0],\n",
       "[10.0, -10.0, -10.0],\n",
       "[16.0, -10.0,   3.0]])*x2 + Matrix([\n",
       "[ -5.0,  2.0, -17.0],\n",
       "[  2.0, -6.0,   8.0],\n",
       "[-17.0,  8.0,   6.0]])*x3 <= Matrix([\n",
       "[14,  9, 40],\n",
       "[ 9, 91, 10],\n",
       "[40, 10, 15]])"
      ]
     },
     "execution_count": 8,
     "metadata": {},
     "output_type": "execute_result"
    }
   ],
   "source": [
    "LMI_2.expanded(variables)"
   ]
  },
  {
   "cell_type": "code",
   "execution_count": 9,
   "id": "9a22d81f",
   "metadata": {},
   "outputs": [
    {
     "name": "stdout",
     "output_type": "stream",
     "text": [
      "[-3.68e-01]\n",
      "[ 1.90e+00]\n",
      "[-8.88e-01]\n",
      "\n"
     ]
    }
   ],
   "source": [
    "from cvxopt import solvers\n",
    "from lmi_sdp import to_cvxopt\n",
    "\n",
    "solvers.options['show_progress'] = False\n",
    "\n",
    "c, Gs, hs = to_cvxopt(min_obj, [LMI_1, LMI_2], variables)\n",
    "\n",
    "sol = solvers.sdp(c, Gs=Gs, hs=hs)\n",
    "print(sol['x'])"
   ]
  },
  {
   "cell_type": "markdown",
   "id": "d9ab22c5",
   "metadata": {},
   "source": [
    "Export to SDPA Format\n",
    "---------------------\n",
    "\n",
    "### Example"
   ]
  },
  {
   "cell_type": "code",
   "execution_count": 10,
   "id": "75e046fb",
   "metadata": {},
   "outputs": [
    {
     "data": {
      "text/latex": [
       "$\\displaystyle \\left[\\begin{matrix}x_{1} - 1 & 0 & 0 & 0\\\\0 & x_{1} + x_{2} - 2 & 0 & 0\\\\0 & 0 & 5 x_{2} - 3 & 2 x_{2}\\\\0 & 0 & 2 x_{2} & 6 x_{2} - 4\\end{matrix}\\right] \\succeq 0$"
      ],
      "text/plain": [
       "Matrix([\n",
       "[x1 - 1,           0,        0,        0],\n",
       "[     0, x1 + x2 - 2,        0,        0],\n",
       "[     0,           0, 5*x2 - 3,     2*x2],\n",
       "[     0,           0,     2*x2, 6*x2 - 4]]) >= 0"
      ]
     },
     "execution_count": 10,
     "metadata": {},
     "output_type": "execute_result"
    }
   ],
   "source": [
    "from sympy import symbols, Matrix\n",
    "from lmi_sdp import LMI_PSD, to_sdpa_sparse\n",
    "\n",
    "variables = x1, x2 = symbols('x1 x2')\n",
    "\n",
    "min_obj = 10*x1 + 20*x2\n",
    "lmi_1 = LMI_PSD(\n",
    "        -Matrix([[1, 0, 0, 0], [0, 2, 0, 0], [0, 0, 3, 0], [0, 0, 0, 4]]) +\n",
    "        Matrix([[1, 0, 0, 0], [0, 1, 0, 0], [0, 0, 0, 0], [0, 0, 0, 0]])*x1 +\n",
    "        Matrix([[0, 0, 0, 0], [0, 1, 0, 0], [0, 0, 5, 2], [0, 0, 2, 6]])*x2)\n",
    "lmi_1"
   ]
  },
  {
   "cell_type": "code",
   "execution_count": 11,
   "id": "7c62cc9f",
   "metadata": {},
   "outputs": [
    {
     "name": "stdout",
     "output_type": "stream",
     "text": [
      "\"test sparse\"\n",
      "2 = ndim\n",
      "3 = nblocks\n",
      "1 1 2 = blockstruct\n",
      "10.0, 20.0 = objcoeffs\n",
      "0 1 1 1 1.0\n",
      "0 2 1 1 2.0\n",
      "0 3 1 1 3.0\n",
      "0 3 2 2 4.0\n",
      "1 1 1 1 1.0\n",
      "1 2 1 1 1.0\n",
      "2 2 1 1 1.0\n",
      "2 3 1 1 5.0\n",
      "2 3 1 2 2.0\n",
      "2 3 2 2 6.0\n",
      "\n"
     ]
    }
   ],
   "source": [
    "dat = to_sdpa_sparse(min_obj, lmi_1, variables, comment='test sparse')\n",
    "print(dat)"
   ]
  },
  {
   "cell_type": "code",
   "execution_count": null,
   "id": "12742999",
   "metadata": {},
   "outputs": [],
   "source": []
  }
 ],
 "metadata": {
  "kernelspec": {
   "display_name": "py38",
   "language": "python",
   "name": "py38"
  },
  "language_info": {
   "codemirror_mode": {
    "name": "ipython",
    "version": 3
   },
   "file_extension": ".py",
   "mimetype": "text/x-python",
   "name": "python",
   "nbconvert_exporter": "python",
   "pygments_lexer": "ipython3",
   "version": "3.8.12"
  }
 },
 "nbformat": 4,
 "nbformat_minor": 5
}
