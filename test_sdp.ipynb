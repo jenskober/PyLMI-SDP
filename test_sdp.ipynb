{
 "cells": [
  {
   "cell_type": "code",
   "execution_count": 1,
   "id": "73725de6",
   "metadata": {},
   "outputs": [],
   "source": [
    "from sympy import Matrix, symbols, pi, BlockDiagMatrix\n",
    "from sympy.abc import x, y, z\n",
    "from numpy import array\n",
    "from numpy.testing import assert_array_equal\n",
    "\n",
    "from lmi_sdp import LMI_PSD, LMI_NSD, lmi_to_coeffs, objective_to_coeffs, \\\n",
    "    get_variables, to_cvxopt, to_sdpa_sparse, to_sdpa_dense"
   ]
  },
  {
   "cell_type": "markdown",
   "id": "ec61eec4",
   "metadata": {},
   "source": [
    "### test_lmi_to_coeffs()"
   ]
  },
  {
   "cell_type": "code",
   "execution_count": 2,
   "id": "a1fc72c8",
   "metadata": {},
   "outputs": [],
   "source": [
    "vars = [x, y, z]\n",
    "m1 = Matrix([[x, y], [y, z+1]])\n",
    "c1 = Matrix([[0, 1], [1, 2]])\n",
    "lmi1 = LMI_PSD(m1, c1)\n",
    "m2 = Matrix([[y, 0], [0, 2*x]])\n",
    "c2 = Matrix([[30, 0], [0, 40]])\n",
    "lmi2 = LMI_NSD(m2, c2)\n",
    "expected = [([array([[1., 0.],\n",
    "                     [0., 0.]]),\n",
    "              array([[0., 1.],\n",
    "                     [1., 0.]]),\n",
    "              array([[0., 0.],\n",
    "                     [0., 1.]])],\n",
    "             array([[0., -1.],\n",
    "                    [-1., -1.]])),\n",
    "            ([array([[0., 0.], [0., -2]]),\n",
    "              array([[-1., 0.], [0., 0.]]),\n",
    "              array([[0., 0.], [0., 0.]])],\n",
    "             array([[30., 0.], [0., 40.]]))]\n",
    "\n",
    "coeffs = lmi_to_coeffs([lmi1, lmi2], vars)\n",
    "for i in range(len(coeffs)):\n",
    "    assert_array_equal(coeffs[i][0], expected[i][0])\n",
    "    assert_array_equal(coeffs[i][1], expected[i][1])\n",
    "\n",
    "m3 = BlockDiagMatrix(m1-c1, -m2+c2)\n",
    "lmi3 = LMI_PSD(m3)\n",
    "coeffs = lmi_to_coeffs(lmi3, vars,\n",
    "                       split_blocks='BlockDiagMatrix')\n",
    "for i in range(len(coeffs)):\n",
    "    assert_array_equal(coeffs[i][0], expected[i][0])\n",
    "    assert_array_equal(coeffs[i][1], expected[i][1])"
   ]
  },
  {
   "cell_type": "markdown",
   "id": "05788a93",
   "metadata": {},
   "source": [
    "### test_lmi_to_coeffs_split()"
   ]
  },
  {
   "cell_type": "code",
   "execution_count": 3,
   "id": "c17a5f76",
   "metadata": {},
   "outputs": [],
   "source": [
    "vars = [x, y, z]\n",
    "m1 = Matrix([[x, y], [y, z+1]])\n",
    "c1 = Matrix([[0, 1], [1, 2]])\n",
    "lmi1 = LMI_PSD(m1, c1)\n",
    "m2 = Matrix([[y, 0], [0, 2*x]])\n",
    "c2 = Matrix([[30, 0], [0, 40]])\n",
    "lmi2 = LMI_NSD(m2, c2)\n",
    "expected = [([array([[1., 0.],\n",
    "                     [0., 0.]]),\n",
    "              array([[0., 1.],\n",
    "                     [1., 0.]]),\n",
    "              array([[0., 0.],\n",
    "                     [0., 1.]])],\n",
    "             array([[0., -1.],\n",
    "                    [-1., -1.]])),\n",
    "            ([array([[0.]]),\n",
    "              array([[-1.]]),\n",
    "              array([[0.]])],\n",
    "             array([[30.]])),\n",
    "            ([array([[-2.]]),\n",
    "              array([[0.]]),\n",
    "              array([[0.]])],\n",
    "             array([[40.]]))]\n",
    "\n",
    "coeffs = lmi_to_coeffs([lmi1, lmi2], vars,\n",
    "                       split_blocks=True)\n",
    "for i in range(len(coeffs)):\n",
    "    assert_array_equal(coeffs[i][0], expected[i][0])\n",
    "    assert_array_equal(coeffs[i][1], expected[i][1])\n",
    "\n",
    "m3 = BlockDiagMatrix(m1-c1, -m2+c2)\n",
    "lmi3 = LMI_PSD(m3)\n",
    "coeffs = lmi_to_coeffs(lmi3, vars,\n",
    "                       split_blocks=True)\n",
    "for i in range(len(coeffs)):\n",
    "    assert_array_equal(coeffs[i][0], expected[i][0])\n",
    "    assert_array_equal(coeffs[i][1], expected[i][1])"
   ]
  },
  {
   "cell_type": "markdown",
   "id": "90a5cfb3",
   "metadata": {},
   "source": [
    "### test_objective_to_coeffs()"
   ]
  },
  {
   "cell_type": "code",
   "execution_count": 4,
   "id": "145f2ee1",
   "metadata": {},
   "outputs": [],
   "source": [
    "vars = [x, y, z]\n",
    "assert_array_equal(objective_to_coeffs(1.2 + x - 3.4*y, vars, 'max'),\n",
    "                   array([-1.0, 3.4, 0.0]))\n",
    "\n",
    "except_ok = False\n",
    "try:\n",
    "    objective_to_coeffs(1.2 + x*y, vars)\n",
    "except ValueError:\n",
    "    except_ok = True\n",
    "assert except_ok"
   ]
  },
  {
   "cell_type": "markdown",
   "id": "c6a4f942",
   "metadata": {},
   "source": [
    "### test_get_variables()"
   ]
  },
  {
   "cell_type": "code",
   "execution_count": 5,
   "id": "b661e48b",
   "metadata": {},
   "outputs": [],
   "source": [
    "x1, x2, x3 = symbols('x1 x2 x3')\n",
    "variables = [x1, x2, x3]\n",
    "\n",
    "obj = 1.2 + pi*x3\n",
    "lmis = [Matrix([x2]), LMI_PSD(Matrix([1.4*x2 + x1]))]\n",
    "\n",
    "assert variables == get_variables(obj, lmis)"
   ]
  },
  {
   "cell_type": "markdown",
   "id": "b4cd2517",
   "metadata": {},
   "source": [
    "### test_to_sdpa_sparse()"
   ]
  },
  {
   "cell_type": "code",
   "execution_count": 6,
   "id": "d95a3ca5",
   "metadata": {},
   "outputs": [],
   "source": [
    "x1, x2 = symbols('x1 x2')\n",
    "variables = x1, x2\n",
    "min_obj = 10*x1 + 20*x2\n",
    "lmi_1 = LMI_PSD(\n",
    "    -Matrix([[1, 0, 0, 0], [0, 2, 0, 0], [0, 0, 3, 0], [0, 0, 0, 4]]) +\n",
    "    Matrix([[1, 0, 0, 0], [0, 1, 0, 0], [0, 0, 0, 0], [0, 0, 0, 0]])*x1 +\n",
    "    Matrix([[0, 0, 0, 0], [0, 1, 0, 0], [0, 0, 5, 2], [0, 0, 2, 6]])*x2)\n",
    "\n",
    "dat = to_sdpa_sparse(min_obj, lmi_1, variables, comment='test sparse')\n",
    "\n",
    "ok_dat = ('\"test sparse\"\\n'\n",
    "          '2 = ndim\\n'\n",
    "          '3 = nblocks\\n'\n",
    "          '1 1 2 = blockstruct\\n'\n",
    "          '10.0, 20.0 = objcoeffs\\n'\n",
    "          '0 1 1 1 1.0\\n'\n",
    "          '0 2 1 1 2.0\\n'\n",
    "          '0 3 1 1 3.0\\n'\n",
    "          '0 3 2 2 4.0\\n'\n",
    "          '1 1 1 1 1.0\\n'\n",
    "          '1 2 1 1 1.0\\n'\n",
    "          '2 2 1 1 1.0\\n'\n",
    "          '2 3 1 1 5.0\\n'\n",
    "          '2 3 1 2 2.0\\n'\n",
    "          '2 3 2 2 6.0\\n')\n",
    "\n",
    "assert ok_dat == dat"
   ]
  },
  {
   "cell_type": "markdown",
   "id": "51438fd2",
   "metadata": {},
   "source": [
    "### test_to_sdpa_dense()"
   ]
  },
  {
   "cell_type": "code",
   "execution_count": 7,
   "id": "733d90b7",
   "metadata": {},
   "outputs": [],
   "source": [
    "x1, x2 = symbols('x1 x2')\n",
    "variables = x1, x2\n",
    "min_obj = 10*x1 + 20*x2\n",
    "lmi_1 = LMI_PSD(\n",
    "    -Matrix([[1, 0, 0, 0], [0, 2, 0, 0], [0, 0, 3, 0], [0, 0, 0, 4]]) +\n",
    "    Matrix([[1, 0, 0, 0], [0, 1, 0, 0], [0, 0, 0, 0], [0, 0, 0, 0]])*x1 +\n",
    "    Matrix([[0, 0, 0, 0], [0, 1, 0, 0], [0, 0, 5, 2], [0, 0, 2, 6]])*x2)\n",
    "\n",
    "dat = to_sdpa_dense(min_obj, lmi_1, variables, comment='test dense')\n",
    "\n",
    "ok_dat = ('\"test dense\"\\n'\n",
    "          '2 = ndim\\n'\n",
    "          '3 = nblocks\\n'\n",
    "          '1 1 2 = blockstruct\\n'\n",
    "          '10.0, 20.0 = objcoeffs\\n'\n",
    "          '{\\n'\n",
    "          ' {\\n'\n",
    "          '  { 1.0 }\\n'\n",
    "          ' }\\n'\n",
    "          ' {\\n'\n",
    "          '  { 2.0 }\\n'\n",
    "          ' }\\n'\n",
    "          ' {\\n'\n",
    "          '  { 3.0, -0.0 },\\n'\n",
    "          '  { -0.0, 4.0 }\\n'\n",
    "          ' }\\n'\n",
    "          '}\\n'\n",
    "          '{\\n'\n",
    "          ' {\\n'\n",
    "          '  { 1.0 }\\n'\n",
    "          ' }\\n'\n",
    "          ' {\\n'\n",
    "          '  { 1.0 }\\n'\n",
    "          ' }\\n'\n",
    "          ' {\\n'\n",
    "          '  { 0.0, 0.0 },\\n'\n",
    "          '  { 0.0, 0.0 }\\n'\n",
    "          ' }\\n'\n",
    "          '}\\n'\n",
    "          '{\\n'\n",
    "          ' {\\n'\n",
    "          '  { 0.0 }\\n'\n",
    "          ' }\\n'\n",
    "          ' {\\n'\n",
    "          '  { 1.0 }\\n'\n",
    "          ' }\\n'\n",
    "          ' {\\n'\n",
    "          '  { 5.0, 2.0 },\\n'\n",
    "          '  { 2.0, 6.0 }\\n'\n",
    "          ' }\\n'\n",
    "          '}\\n')\n",
    "\n",
    "assert ok_dat == dat"
   ]
  },
  {
   "cell_type": "markdown",
   "id": "6dff74a3",
   "metadata": {},
   "source": [
    "### test_to_cvxopt()"
   ]
  },
  {
   "cell_type": "code",
   "execution_count": 8,
   "id": "b11a4b7c",
   "metadata": {},
   "outputs": [],
   "source": [
    "try:\n",
    "    from cvxopt import matrix\n",
    "except ImportError:  # pragma: no cover\n",
    "    pass\n",
    "else:\n",
    "    variables = symbols('x1 x2 x3')\n",
    "    x1, x2, x3 = variables\n",
    "\n",
    "    min_obj = x1 - x2 + x3\n",
    "\n",
    "    LMI_1 = LMI_NSD(\n",
    "        x1*Matrix([[-7, -11], [-11, 3]]) +\n",
    "        x2*Matrix([[7, -18], [-18, 8]]) +\n",
    "        x3*Matrix([[-2, -8], [-8, 1]]),\n",
    "        Matrix([[33, -9], [-9, 26]]))\n",
    "\n",
    "    LMI_2 = LMI_NSD(\n",
    "        x1*Matrix([[-21, -11, 0], [-11, 10, 8], [0, 8, 5]]) +\n",
    "        x2*Matrix([[0, 10, 16], [10, -10, -10], [16, -10, 3]]) +\n",
    "        x3*Matrix([[-5, 2, -17], [2, -6, 8], [-17, 8, 6]]),\n",
    "        Matrix([[14, 9, 40], [9, 91, 10], [40, 10, 15]]))\n",
    "\n",
    "    ok_c = matrix([1., -1., 1.])\n",
    "    ok_Gs = [matrix([[-7., -11., -11., 3.],\n",
    "                    [7., -18., -18., 8.],\n",
    "                    [-2., -8., -8., 1.]])]\n",
    "    ok_Gs += [matrix([[-21., -11., 0., -11., 10., 8., 0., 8., 5.],\n",
    "                      [0., 10., 16., 10., -10., -10., 16., -10., 3.],\n",
    "                      [-5., 2., -17., 2., -6., 8., -17., 8., 6.]])]\n",
    "    ok_hs = [matrix([[33., -9.], [-9., 26.]])]\n",
    "    ok_hs += [matrix([[14., 9., 40.], [9., 91., 10.], [40., 10., 15.]])]\n",
    "\n",
    "    c, Gs, hs = to_cvxopt(min_obj, [LMI_1, LMI_2], variables)\n",
    "\n",
    "    assert not any(ok_c - c)\n",
    "    for i in range(len(ok_Gs)):\n",
    "        assert not any(ok_Gs[i] - Gs[i])\n",
    "    for i in range(len(ok_hs)):\n",
    "        assert not any(ok_hs[i] - hs[i])"
   ]
  }
 ],
 "metadata": {
  "kernelspec": {
   "display_name": "py38",
   "language": "python",
   "name": "py38"
  },
  "language_info": {
   "codemirror_mode": {
    "name": "ipython",
    "version": 3
   },
   "file_extension": ".py",
   "mimetype": "text/x-python",
   "name": "python",
   "nbconvert_exporter": "python",
   "pygments_lexer": "ipython3",
   "version": "3.8.12"
  }
 },
 "nbformat": 4,
 "nbformat_minor": 5
}
